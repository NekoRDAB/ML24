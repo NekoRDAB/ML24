{
 "cells": [
  {
   "cell_type": "markdown",
   "metadata": {},
   "source": [
    "# Введение в рекомендательные системы (Recommender systems)"
   ]
  },
  {
   "cell_type": "markdown",
   "metadata": {},
   "source": [
    "<q>Лучшие умы моего поколения заняты тем, как заставить людей кликать мышью по рекламным объявления</q>, - Джефф Хаммербахер, ранее инженер Facebook."
   ]
  },
  {
   "cell_type": "markdown",
   "metadata": {},
   "source": [
    "В этом блоке курса мы рассмотрим рекомендательные системы. Ответим на вопросы, что такое рекомендательные системы, где и как они применяются. Какие виды рекоммендательных систем встречаются, их преимущества и ограничения. Какие метрики качества используют при оценке рекоммендаций."
   ]
  },
  {
   "cell_type": "markdown",
   "metadata": {},
   "source": [
    "## FYI"
   ]
  },
  {
   "cell_type": "markdown",
   "metadata": {},
   "source": [
    "##### На самом деле рекомендательнные системы - это отдельное направление в сфере машинного обучения и хорошие специалисты в этой сфере высоко ценяться на рынке труда, так как от них во многом зависит кол-во продаж"
   ]
  },
  {
   "cell_type": "markdown",
   "metadata": {},
   "source": [
    "На сегодняшний день каждый крупный онлайн сервис, который зарабатывает на продаже товаров или услуг, показе рекламы пользователям или контента, имеет встроенную рекомендательную систему. которая позволяет:\n",
    "1. Улучшить поиск (подбор релевантных продуктов, категорий и продуктов, которые интересны пользователю)\n",
    "2. Улучшить опыт(experience) использования сервиса потребителем. Повысить удобство пользования, выдавая наиболее релевантный контент, на основе предпочтений.\n",
    "3. Повысить выручку (вытекает из первых двух) компании."
   ]
  },
  {
   "cell_type": "markdown",
   "metadata": {},
   "source": [
    "Рекомендательные системы очень широко применяются во многих популярных сервисах. Для некоторых из них качество рекомендательной системы является главным продуктом, который привлекает новых пользателей. В качестве примера можно привести:\n",
    "1. <b>Рекомендация товаров</b> (Amazon, Alibaba, Ozon, Lamoda, Яндекс Маркет итд.);\n",
    "2. <b>Рекомендация музыки </b> (Spotify, ЯндексМузыка, Boom, Google Play Music);\n",
    "3. <b>Рекомендация (также ранжирование) новостей и контента </b>, которые будут интересны пользователю (Ленты VK, FaceBook, Яндекс Дзен);\n",
    "4. <b>Рекомендация фильмов</b> (HBO, КиноПоиск, Netflix, Амедиатека, ivi)\n",
    "5. <b>Рекомендация видеоконтента</b> (Youtube, TikTok, Coub);\n",
    "6. <b>Рекомендация ресторанов и мест для посещения</b> (Google Maps, Яндекс Карты);\n",
    "\n",
    "Как можете убедиться применение рекомендательных систем довольно обширно.\n",
    "В данном уроке вы узнаете базовые методы построения системы рекомендаций, с помощью которых можно реализовать свою рекомендательную систему."
   ]
  },
  {
   "cell_type": "markdown",
   "metadata": {},
   "source": [
    "## Примеры использования"
   ]
  },
  {
   "cell_type": "markdown",
   "metadata": {},
   "source": [
    "![title](img/amazon_exp.png)\n",
    "![title](img/okko_exp.png)\n",
    "![title](img/spotify_exp.png)\n",
    "![title](img/netflix_exp.jpeg)"
   ]
  },
  {
   "cell_type": "markdown",
   "metadata": {},
   "source": [
    "\n",
    "You can use html directly\n",
    "\n",
    "<img src=\"img/amazon_exp.png\" alt=\"Drawing\" style=\"width: 600px;\"/>"
   ]
  },
  {
   "cell_type": "markdown",
   "metadata": {},
   "source": [
    "## Немного иcтории"
   ]
  },
  {
   "cell_type": "markdown",
   "metadata": {},
   "source": [
    "Началом широкого исследования и популяризации рекоммендательных систем неофициально считают \n",
    "[Netflix Prize](https://ru.wikipedia.org/wiki/Netflix_Prize), соревнование с выйгрышем в \\$1,000,000 ставило перед участниками задачу предсказать какую оценку поставит зритель фильму (тогда Netflix еще был фирмой по аренде DVD, которые рассылали по почте), на основе предыдущих оценок. Победителем считалась команда, которая <b>первая</b> пришлет решение, которое улучшит текущий алгоритм на 10\\% </b> . И хоть и команда The Ensemble прислала лучшее решение, улучшающее предсказание на 10.10\\% на тесте и 10.06\\% на закрытом тесте, победила объединенная команда \"BellKor in BigChaos\" с 10.09\\% на тесте и 10.06\\% на закрытом тесте поскольку прислала решение на 20 минут раньше. \"BellKor in BigChaos\" выйграли \\$1,000,000, другие команды остались нисчем.\n",
    "\n",
    "Это было первое соревнование такого масштаба и имело свои недостатки. Например: в качестве оценки качества модели использовалоссь среднеквадратичная ошибка от предсказанных оценок на отложенной выборке, тогда как для рекомендационных систем лучше было бы использовать такие метрики как: Mean Average Precision At K (MAP@k) или  Mean Average Recall at K (MAR@K). О метриках мы поговорим позднее.\n",
    "\n",
    "Забавно, что рекомендательная система первой команды этого соревнования, на которую компания Netflix потратила больше \\$1,000,000 (были промежутчные выплаты участникам за успехи) никогда не было использовано, так как было решено что реализация в продуткиве будет слишком затратной со стороны разработчиков.\n",
    "\n",
    "Тем не менее Netflix получила хороший PR среди программистов-исследователей и ученых, а направление рекомендательных систем начало свое бурное развитие, которое продолжается до сих пор."
   ]
  },
  {
   "cell_type": "markdown",
   "metadata": {},
   "source": [
    "## Определения, которые будем использовать"
   ]
  },
  {
   "cell_type": "markdown",
   "metadata": {},
   "source": [
    "<ol>\n",
    "    <li>Контент - рекомендуемый товар (фильмы, видео, книги</li>\n",
    "    <li>Отклик (англ. Implicit rating) - оценка товара пользователем\n",
    "        <ul>\n",
    "            <li>Явный отклик (англ. Explicit rating) - прямая контента пользователя: лайк, ревью, оценка по шкале.</li>\n",
    "            <li>Неявный отклик (англ. Implicit rating) - оценка контента, выявленная на основе его действий: покупка, подписка, переход по ссылке, время просмотра.</li>\n",
    "        </ul>\n",
    "    </li>\n",
    "    <li>Список рекомендаций (англ. Recommendation list) - подборка (подмножество из всех товаров) товаров для пользователя</li>\n",
    "    <li>Предсказание (англ. Prediction) - оценка предпочтения товара моделью\n",
    "    <li>Отранжированный (англ. Ranked) список рекомендаций - отсортированный список рекомендаций на основе</li>\n",
    "    <li>Коллоборативный (англ. Collaborative) - использующий данные других пользователей</li>\n",
    "</ol>"
   ]
  },
  {
   "cell_type": "markdown",
   "metadata": {},
   "source": [
    "## Виды моделей рекоммендации"
   ]
  },
  {
   "cell_type": "markdown",
   "metadata": {},
   "source": [
    "Среди подходов по построении моделей выделяют следующие:\n",
    "<ol>\n",
    "    <li>Неперсонализованные рекомендации, популярные товары</li>\n",
    "    <li>Коллаборативная фильтрация (Collaborative Filtering)</li>\n",
    "    <li>Гибридные ситемы (Hybrid system) (используются данные об откликах, данных пользователя и товара).</li>\n",
    "    <li>Контентные рекомендации (Content-Based Filtering)</li>\n",
    "<ol/>"
   ]
  },
  {
   "cell_type": "code",
   "execution_count": null,
   "metadata": {},
   "outputs": [],
   "source": [
    "Задачи:\n",
    "    1. Коллаборативная фильтрация - аниме\n",
    "    2. Метрики - 2 результата\n",
    "    3. Неперсональные рекоммендации\n",
    "    4. x"
   ]
  },
  {
   "cell_type": "markdown",
   "metadata": {},
   "source": []
  },
  {
   "cell_type": "markdown",
   "metadata": {},
   "source": [
    "Первой идеей, которая может придти в голову - это рекомендации популярных товаров.\n",
    "Но спросим себя что такое популярные товары? Это товары которые набирают больше всего покупок, имеют лучше всего рейтинг или самое большое кол-во просмотров?. И за какой период? Ответив на эти вопросы можно получить рекоммендацию на top-N товаров. "
   ]
  },
  {
   "cell_type": "markdown",
   "metadata": {},
   "source": [
    "<img src=\"img/cust_who_bought.png\" alt=\"Сustomers Who bought\" style=\"width: 600px;\"/>"
   ]
  },
  {
   "cell_type": "markdown",
   "metadata": {},
   "source": [
    "### Коллаборативная фильтрация (Collaborative Filtering)"
   ]
  },
  {
   "cell_type": "markdown",
   "metadata": {},
   "source": [
    "![title](img/col_rec_cb_rec.png)"
   ]
  },
  {
   "cell_type": "markdown",
   "metadata": {},
   "source": [
    "### Collaborative filtering"
   ]
  },
  {
   "cell_type": "markdown",
   "metadata": {},
   "source": [
    "Основная идея данного подхода заключается в следующем: пользователи, которым нравятся похожие продукты (фильмы, места, песни итд.) скорее всего имеют одиннаковые вкусы. И этой информации в принципе нам уже достаточно, чтобы дать рекоммендацию пользователю. Ему можно рекоммендовать что-то с чем он еще не сталкивался, но людям с похожими вкусами его оценили высоко."
   ]
  },
  {
   "cell_type": "markdown",
   "metadata": {},
   "source": [
    "<b>Основным</b> недостатком, как вы уже могли догадаться, данного подхода является, то что для того чтобы выдать пользователю рекоммендацию у него может не быть истории взаимодействия с другими продуктами. Такая проблема называется Cold Start Problem\n",
    "    "
   ]
  },
  {
   "cell_type": "markdown",
   "metadata": {},
   "source": [
    "### Cold Start Problem"
   ]
  },
  {
   "cell_type": "markdown",
   "metadata": {},
   "source": [
    "![title]('img/cold_start.jpg')"
   ]
  },
  {
   "cell_type": "markdown",
   "metadata": {},
   "source": [
    "## Задача"
   ]
  },
  {
   "cell_type": "markdown",
   "metadata": {},
   "source": [
    "В качестве данных будем использовать данные [MovieLens](https://www.kaggle.com/prajitdatta/movielens-100k-dataset) с оценками фильмов"
   ]
  },
  {
   "cell_type": "markdown",
   "metadata": {},
   "source": [
    "## Приступим"
   ]
  },
  {
   "cell_type": "code",
   "execution_count": 7,
   "metadata": {},
   "outputs": [],
   "source": [
    "user_ratings = pd.read_csv('data/ml-100k/u.data',\n",
    "                           sep='\\t',names=['user_id','movie_id','rating'], \n",
    "                           usecols=[0,1,2])\n",
    "\n",
    "movie_info =  pd.read_csv('data/ml-100k/u.item', \n",
    "                          sep='|', names=['movie_id','title'], \n",
    "                          usecols=[0,1],\n",
    "                          encoding=\"ISO-8859-1\")"
   ]
  },
  {
   "cell_type": "code",
   "execution_count": 11,
   "metadata": {},
   "outputs": [
    {
     "data": {
      "text/html": [
       "<div>\n",
       "<style scoped>\n",
       "    .dataframe tbody tr th:only-of-type {\n",
       "        vertical-align: middle;\n",
       "    }\n",
       "\n",
       "    .dataframe tbody tr th {\n",
       "        vertical-align: top;\n",
       "    }\n",
       "\n",
       "    .dataframe thead th {\n",
       "        text-align: right;\n",
       "    }\n",
       "</style>\n",
       "<table border=\"1\" class=\"dataframe\">\n",
       "  <thead>\n",
       "    <tr style=\"text-align: right;\">\n",
       "      <th></th>\n",
       "      <th>user_id</th>\n",
       "      <th>movie_id</th>\n",
       "      <th>rating</th>\n",
       "    </tr>\n",
       "  </thead>\n",
       "  <tbody>\n",
       "    <tr>\n",
       "      <th>0</th>\n",
       "      <td>196</td>\n",
       "      <td>242</td>\n",
       "      <td>3</td>\n",
       "    </tr>\n",
       "    <tr>\n",
       "      <th>1</th>\n",
       "      <td>186</td>\n",
       "      <td>302</td>\n",
       "      <td>3</td>\n",
       "    </tr>\n",
       "    <tr>\n",
       "      <th>2</th>\n",
       "      <td>22</td>\n",
       "      <td>377</td>\n",
       "      <td>1</td>\n",
       "    </tr>\n",
       "    <tr>\n",
       "      <th>3</th>\n",
       "      <td>244</td>\n",
       "      <td>51</td>\n",
       "      <td>2</td>\n",
       "    </tr>\n",
       "    <tr>\n",
       "      <th>4</th>\n",
       "      <td>166</td>\n",
       "      <td>346</td>\n",
       "      <td>1</td>\n",
       "    </tr>\n",
       "  </tbody>\n",
       "</table>\n",
       "</div>"
      ],
      "text/plain": [
       "   user_id  movie_id  rating\n",
       "0      196       242       3\n",
       "1      186       302       3\n",
       "2       22       377       1\n",
       "3      244        51       2\n",
       "4      166       346       1"
      ]
     },
     "execution_count": 11,
     "metadata": {},
     "output_type": "execute_result"
    }
   ],
   "source": [
    "user_ratings.head()"
   ]
  },
  {
   "cell_type": "code",
   "execution_count": 12,
   "metadata": {},
   "outputs": [
    {
     "data": {
      "text/html": [
       "<div>\n",
       "<style scoped>\n",
       "    .dataframe tbody tr th:only-of-type {\n",
       "        vertical-align: middle;\n",
       "    }\n",
       "\n",
       "    .dataframe tbody tr th {\n",
       "        vertical-align: top;\n",
       "    }\n",
       "\n",
       "    .dataframe thead th {\n",
       "        text-align: right;\n",
       "    }\n",
       "</style>\n",
       "<table border=\"1\" class=\"dataframe\">\n",
       "  <thead>\n",
       "    <tr style=\"text-align: right;\">\n",
       "      <th></th>\n",
       "      <th>movie_id</th>\n",
       "      <th>title</th>\n",
       "    </tr>\n",
       "  </thead>\n",
       "  <tbody>\n",
       "    <tr>\n",
       "      <th>0</th>\n",
       "      <td>1</td>\n",
       "      <td>Toy Story (1995)</td>\n",
       "    </tr>\n",
       "    <tr>\n",
       "      <th>1</th>\n",
       "      <td>2</td>\n",
       "      <td>GoldenEye (1995)</td>\n",
       "    </tr>\n",
       "    <tr>\n",
       "      <th>2</th>\n",
       "      <td>3</td>\n",
       "      <td>Four Rooms (1995)</td>\n",
       "    </tr>\n",
       "    <tr>\n",
       "      <th>3</th>\n",
       "      <td>4</td>\n",
       "      <td>Get Shorty (1995)</td>\n",
       "    </tr>\n",
       "    <tr>\n",
       "      <th>4</th>\n",
       "      <td>5</td>\n",
       "      <td>Copycat (1995)</td>\n",
       "    </tr>\n",
       "  </tbody>\n",
       "</table>\n",
       "</div>"
      ],
      "text/plain": [
       "   movie_id              title\n",
       "0         1   Toy Story (1995)\n",
       "1         2   GoldenEye (1995)\n",
       "2         3  Four Rooms (1995)\n",
       "3         4  Get Shorty (1995)\n",
       "4         5     Copycat (1995)"
      ]
     },
     "execution_count": 12,
     "metadata": {},
     "output_type": "execute_result"
    }
   ],
   "source": [
    "movie_info.head()"
   ]
  },
  {
   "cell_type": "code",
   "execution_count": null,
   "metadata": {},
   "outputs": [],
   "source": []
  },
  {
   "cell_type": "markdown",
   "metadata": {},
   "source": [
    "## User Based Recommendations "
   ]
  },
  {
   "cell_type": "code",
   "execution_count": null,
   "metadata": {},
   "outputs": [],
   "source": []
  },
  {
   "cell_type": "code",
   "execution_count": null,
   "metadata": {},
   "outputs": [],
   "source": [
    "В конце посмотреть свои рекомендации"
   ]
  },
  {
   "cell_type": "markdown",
   "metadata": {},
   "source": [
    "\n",
    "## Content Based Recommendations "
   ]
  },
  {
   "cell_type": "code",
   "execution_count": null,
   "metadata": {},
   "outputs": [],
   "source": []
  },
  {
   "cell_type": "markdown",
   "metadata": {},
   "source": [
    "## SVD"
   ]
  },
  {
   "cell_type": "code",
   "execution_count": null,
   "metadata": {},
   "outputs": [],
   "source": []
  }
 ],
 "metadata": {
  "kernelspec": {
   "display_name": "Python 3",
   "language": "python",
   "name": "python3"
  },
  "language_info": {
   "codemirror_mode": {
    "name": "ipython",
    "version": 3
   },
   "file_extension": ".py",
   "mimetype": "text/x-python",
   "name": "python",
   "nbconvert_exporter": "python",
   "pygments_lexer": "ipython3",
   "version": "3.8.5"
  }
 },
 "nbformat": 4,
 "nbformat_minor": 2
}
