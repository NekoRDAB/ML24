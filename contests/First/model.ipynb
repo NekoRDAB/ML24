{
 "cells": [
  {
   "cell_type": "code",
   "execution_count": 1,
   "id": "initial_id",
   "metadata": {
    "ExecuteTime": {
     "end_time": "2024-03-21T14:35:00.771488100Z",
     "start_time": "2024-03-21T14:35:00.754462900Z"
    },
    "collapsed": true
   },
   "outputs": [],
   "source": [
    "import pandas as pd\n",
    "import numpy as np\n",
    "from catboost import CatBoostClassifier, Pool, metrics, cv\n",
    "from sklearn.metrics import accuracy_score\n",
    "from sklearn.model_selection import train_test_split\n"
   ]
  },
  {
   "cell_type": "code",
   "execution_count": 18,
   "id": "26f8de6fdd6e29a0",
   "metadata": {
    "ExecuteTime": {
     "start_time": "2024-03-21T14:32:08.928206700Z"
    },
    "collapsed": false
   },
   "outputs": [],
   "source": [
    "import random\n",
    "\n",
    "train_df = pd.read_csv('train.csv')\n",
    "cols_wo_nans = []\n",
    "for col in train_df.columns:\n",
    "    if (train_df[col].notnull()).sum() == 0:\n",
    "        cols_wo_nans.append(col)\n",
    "train_df.drop(cols_wo_nans, axis=1, inplace=True)\n"
   ]
  },
  {
   "cell_type": "code",
   "execution_count": 19,
   "id": "de479f8b",
   "metadata": {},
   "outputs": [],
   "source": [
    "train_df.fillna(-99999, inplace=True)\n",
    "\n",
    "df_len = len(train_df)\n",
    "random_indices = random.sample(range(df_len), int(df_len / 5))\n",
    "test_df = train_df.iloc[random_indices]\n",
    "Y_test = test_df['Target']"
   ]
  },
  {
   "cell_type": "markdown",
   "id": "a960efe3631d1c25",
   "metadata": {
    "collapsed": false
   },
   "source": []
  },
  {
   "cell_type": "code",
   "execution_count": 20,
   "id": "ac4f667592634038",
   "metadata": {
    "ExecuteTime": {
     "start_time": "2024-03-21T14:32:08.929207900Z"
    },
    "collapsed": false
   },
   "outputs": [],
   "source": [
    "\n",
    "X = train_df.drop('Target', axis=1)\n",
    "Y = train_df['Target']\n",
    "categorical_features_indices = np.where(X.dtypes != float)[0]"
   ]
  },
  {
   "cell_type": "code",
   "execution_count": 21,
   "id": "a6956c54c1606789",
   "metadata": {
    "ExecuteTime": {
     "start_time": "2024-03-21T14:32:08.929207900Z"
    },
    "collapsed": false
   },
   "outputs": [],
   "source": [
    "\n",
    "X_train, X_validation, y_train, y_validation = train_test_split(X, Y, train_size=0.8, random_state=42)\n",
    "\n",
    "X_test = test_df"
   ]
  },
  {
   "cell_type": "code",
   "execution_count": 45,
   "id": "1b7f44a6",
   "metadata": {},
   "outputs": [],
   "source": [
    "params = {\n",
    "    'learning_rate' : 0.07,\n",
    "    'iterations': 400,\n",
    "    'eval_metric': metrics.Accuracy(),\n",
    "    'random_seed': 42,\n",
    "    'logging_level': 'Silent',\n",
    "    'use_best_model': True,\n",
    "    'custom_loss' : 'AUC',\n",
    "}\n",
    "train_pool = Pool(X_train, y_train, cat_features=categorical_features_indices)\n",
    "validate_pool = Pool(X_validation, y_validation, cat_features=categorical_features_indices)"
   ]
  },
  {
   "cell_type": "code",
   "execution_count": 46,
   "id": "f248a480e8bbf483",
   "metadata": {
    "ExecuteTime": {
     "start_time": "2024-03-21T14:32:08.934206600Z"
    },
    "collapsed": false
   },
   "outputs": [
    {
     "data": {
      "application/vnd.jupyter.widget-view+json": {
       "model_id": "44084987763a48b6b6e11745be30bba7",
       "version_major": 2,
       "version_minor": 0
      },
      "text/plain": [
       "MetricVisualizer(layout=Layout(align_self='stretch', height='500px'))"
      ]
     },
     "metadata": {},
     "output_type": "display_data"
    },
    {
     "name": "stdout",
     "output_type": "stream",
     "text": [
      "Simple model validation accuracy: 0.9251\n"
     ]
    }
   ],
   "source": [
    "model = CatBoostClassifier(**params)\n",
    "model.fit(train_pool, eval_set=validate_pool, plot=True)\n",
    "\n",
    "\n",
    "print('Simple model validation accuracy: {:.4}'.format(\n",
    "    accuracy_score(y_validation, model.predict(X_validation))\n",
    "))"
   ]
  },
  {
   "cell_type": "code",
   "execution_count": 47,
   "id": "2cc5576c49159712",
   "metadata": {
    "ExecuteTime": {
     "end_time": "2024-03-21T14:32:08.951252800Z",
     "start_time": "2024-03-21T14:32:08.947223800Z"
    },
    "collapsed": false
   },
   "outputs": [
    {
     "data": {
      "application/vnd.jupyter.widget-view+json": {
       "model_id": "bbc619a94dc14ee9ab48c2937dd3d7b3",
       "version_major": 2,
       "version_minor": 0
      },
      "text/plain": [
       "MetricVisualizer(layout=Layout(align_self='stretch', height='500px'))"
      ]
     },
     "metadata": {},
     "output_type": "display_data"
    }
   ],
   "source": [
    "cv_params = model.get_params()\n",
    "cv_params.update({\n",
    "    'loss_function': metrics.Logloss()\n",
    "})\n",
    "cv_data = cv(\n",
    "    Pool(X, Y, cat_features=categorical_features_indices),\n",
    "    cv_params,\n",
    "    plot=True\n",
    ")"
   ]
  },
  {
   "cell_type": "code",
   "execution_count": 48,
   "id": "4606c0f8",
   "metadata": {},
   "outputs": [
    {
     "data": {
      "text/html": [
       "<div>\n",
       "<style scoped>\n",
       "    .dataframe tbody tr th:only-of-type {\n",
       "        vertical-align: middle;\n",
       "    }\n",
       "\n",
       "    .dataframe tbody tr th {\n",
       "        vertical-align: top;\n",
       "    }\n",
       "\n",
       "    .dataframe thead th {\n",
       "        text-align: right;\n",
       "    }\n",
       "</style>\n",
       "<table border=\"1\" class=\"dataframe\">\n",
       "  <thead>\n",
       "    <tr style=\"text-align: right;\">\n",
       "      <th></th>\n",
       "      <th>iterations</th>\n",
       "      <th>test-Accuracy-mean</th>\n",
       "      <th>test-Accuracy-std</th>\n",
       "      <th>train-Accuracy-mean</th>\n",
       "      <th>train-Accuracy-std</th>\n",
       "      <th>test-Logloss-mean</th>\n",
       "      <th>test-Logloss-std</th>\n",
       "      <th>train-Logloss-mean</th>\n",
       "      <th>train-Logloss-std</th>\n",
       "      <th>test-AUC-mean</th>\n",
       "      <th>test-AUC-std</th>\n",
       "    </tr>\n",
       "  </thead>\n",
       "  <tbody>\n",
       "    <tr>\n",
       "      <th>0</th>\n",
       "      <td>0</td>\n",
       "      <td>0.92656</td>\n",
       "      <td>1.359740e-16</td>\n",
       "      <td>0.926573</td>\n",
       "      <td>2.309401e-05</td>\n",
       "      <td>0.619961</td>\n",
       "      <td>0.000181</td>\n",
       "      <td>0.619891</td>\n",
       "      <td>0.000376</td>\n",
       "      <td>0.585839</td>\n",
       "      <td>0.015548</td>\n",
       "    </tr>\n",
       "    <tr>\n",
       "      <th>1</th>\n",
       "      <td>1</td>\n",
       "      <td>0.92656</td>\n",
       "      <td>1.359740e-16</td>\n",
       "      <td>0.926560</td>\n",
       "      <td>1.359740e-16</td>\n",
       "      <td>0.560399</td>\n",
       "      <td>0.000166</td>\n",
       "      <td>0.560336</td>\n",
       "      <td>0.000333</td>\n",
       "      <td>0.585839</td>\n",
       "      <td>0.015548</td>\n",
       "    </tr>\n",
       "    <tr>\n",
       "      <th>2</th>\n",
       "      <td>2</td>\n",
       "      <td>0.92656</td>\n",
       "      <td>1.359740e-16</td>\n",
       "      <td>0.926560</td>\n",
       "      <td>1.359740e-16</td>\n",
       "      <td>0.510594</td>\n",
       "      <td>0.000822</td>\n",
       "      <td>0.510525</td>\n",
       "      <td>0.000522</td>\n",
       "      <td>0.590807</td>\n",
       "      <td>0.015633</td>\n",
       "    </tr>\n",
       "    <tr>\n",
       "      <th>3</th>\n",
       "      <td>3</td>\n",
       "      <td>0.92656</td>\n",
       "      <td>1.359740e-16</td>\n",
       "      <td>0.926560</td>\n",
       "      <td>1.359740e-16</td>\n",
       "      <td>0.469553</td>\n",
       "      <td>0.000753</td>\n",
       "      <td>0.469492</td>\n",
       "      <td>0.000489</td>\n",
       "      <td>0.592121</td>\n",
       "      <td>0.013559</td>\n",
       "    </tr>\n",
       "    <tr>\n",
       "      <th>4</th>\n",
       "      <td>4</td>\n",
       "      <td>0.92656</td>\n",
       "      <td>1.359740e-16</td>\n",
       "      <td>0.926560</td>\n",
       "      <td>1.359740e-16</td>\n",
       "      <td>0.435464</td>\n",
       "      <td>0.000775</td>\n",
       "      <td>0.435433</td>\n",
       "      <td>0.000495</td>\n",
       "      <td>0.592784</td>\n",
       "      <td>0.012556</td>\n",
       "    </tr>\n",
       "  </tbody>\n",
       "</table>\n",
       "</div>"
      ],
      "text/plain": [
       "   iterations  test-Accuracy-mean  test-Accuracy-std  train-Accuracy-mean  \\\n",
       "0           0             0.92656       1.359740e-16             0.926573   \n",
       "1           1             0.92656       1.359740e-16             0.926560   \n",
       "2           2             0.92656       1.359740e-16             0.926560   \n",
       "3           3             0.92656       1.359740e-16             0.926560   \n",
       "4           4             0.92656       1.359740e-16             0.926560   \n",
       "\n",
       "   train-Accuracy-std  test-Logloss-mean  test-Logloss-std  \\\n",
       "0        2.309401e-05           0.619961          0.000181   \n",
       "1        1.359740e-16           0.560399          0.000166   \n",
       "2        1.359740e-16           0.510594          0.000822   \n",
       "3        1.359740e-16           0.469553          0.000753   \n",
       "4        1.359740e-16           0.435464          0.000775   \n",
       "\n",
       "   train-Logloss-mean  train-Logloss-std  test-AUC-mean  test-AUC-std  \n",
       "0            0.619891           0.000376       0.585839      0.015548  \n",
       "1            0.560336           0.000333       0.585839      0.015548  \n",
       "2            0.510525           0.000522       0.590807      0.015633  \n",
       "3            0.469492           0.000489       0.592121      0.013559  \n",
       "4            0.435433           0.000495       0.592784      0.012556  "
      ]
     },
     "execution_count": 48,
     "metadata": {},
     "output_type": "execute_result"
    }
   ],
   "source": [
    "cv_data.head()"
   ]
  },
  {
   "cell_type": "code",
   "execution_count": 49,
   "id": "9e3c0748",
   "metadata": {},
   "outputs": [
    {
     "name": "stdout",
     "output_type": "stream",
     "text": [
      "Best validation accuracy score: 0.93±0.00 on step 193\n",
      "Precise validation accuracy score: 0.9273333333333333\n"
     ]
    }
   ],
   "source": [
    "print('Best validation accuracy score: {:.2f}±{:.2f} on step {}'.format(\n",
    "    np.max(cv_data['test-Accuracy-mean']),\n",
    "    cv_data['test-Accuracy-std'][np.argmax(cv_data['test-Accuracy-mean'])],\n",
    "    np.argmax(cv_data['test-Accuracy-mean'])\n",
    "))\n",
    "\n",
    "print('Precise validation accuracy score: {}'.format(np.max(cv_data['test-Accuracy-mean'])))"
   ]
  },
  {
   "cell_type": "code",
   "execution_count": 16,
   "id": "9802ea29",
   "metadata": {},
   "outputs": [
    {
     "name": "stdout",
     "output_type": "stream",
     "text": [
      "[-1 -1 -1 -1 -1 -1 -1 -1 -1 -1]\n",
      "[[0.86916969 0.13083031]\n",
      " [0.94209046 0.05790954]\n",
      " [0.95350202 0.04649798]\n",
      " [0.97099003 0.02900997]\n",
      " [0.95094221 0.04905779]\n",
      " [0.95927584 0.04072416]\n",
      " [0.88055633 0.11944367]\n",
      " [0.97276353 0.02723647]\n",
      " [0.95065098 0.04934902]\n",
      " [0.90340423 0.09659577]]\n"
     ]
    }
   ],
   "source": [
    "predictions = model.predict(X_test)\n",
    "predictions_probs = model.predict_proba(X_test)\n",
    "print(predictions[:10])\n",
    "print(predictions_probs[:10])"
   ]
  },
  {
   "cell_type": "code",
   "execution_count": 52,
   "id": "caa9d53b",
   "metadata": {},
   "outputs": [],
   "source": [
    "df_to_predict = pd.read_csv('data_predict.csv')\n",
    "df_to_predict.drop(cols_wo_nans, axis=1, inplace=True)\n",
    "df_to_predict.fillna(-99999, inplace=True)\n",
    "\n",
    "submisstion = pd.DataFrame()\n",
    "submisstion['ID'] = df_to_predict['ID']\n",
    "submisstion['Target'] = model.predict_proba(df_to_predict)[:,1]\n",
    "submisstion.to_csv('submission.csv', index=False)"
   ]
  }
 ],
 "metadata": {
  "kernelspec": {
   "display_name": "Python 3",
   "language": "python",
   "name": "python3"
  },
  "language_info": {
   "codemirror_mode": {
    "name": "ipython",
    "version": 3
   },
   "file_extension": ".py",
   "mimetype": "text/x-python",
   "name": "python",
   "nbconvert_exporter": "python",
   "pygments_lexer": "ipython3",
   "version": "3.10.5"
  }
 },
 "nbformat": 4,
 "nbformat_minor": 5
}
