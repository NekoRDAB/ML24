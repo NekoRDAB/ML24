{
 "cells": [
  {
   "cell_type": "markdown",
   "metadata": {},
   "source": [
    "# SLIDE (1) Ближайший элемент"
   ]
  },
  {
   "cell_type": "markdown",
   "metadata": {},
   "source": [
    "Реализуйте функцию, принимающую на вход непустой тензор (может быть многомерным) $X$ и некоторое число $a$ и возвращающую ближайший к числу элемент тензора. Если ближайших несколько - выведите минимальный из ближайших. (Вернуть нужно само число, а не индекс числа!)\n",
    "\n",
    "### Sample\n",
    "#### Input:\n",
    "```python\n",
    "X = np.array([[ 1,  2, 13],\n",
    "              [15,  6,  8],\n",
    "              [ 7, 18,  9]])\n",
    "a = 7.2\n",
    "```\n",
    "#### Output:\n",
    "```python\n",
    "7\n",
    "```"
   ]
  },
  {
   "cell_type": "markdown",
   "metadata": {},
   "source": [
    "# TASK"
   ]
  },
  {
   "cell_type": "code",
   "execution_count": 9,
   "metadata": {},
   "outputs": [],
   "source": [
    "import numpy as np\n",
    "\n",
    "def nearest_value(X: np.ndarray, a: float) -> np.float:\n",
    "    ### ╰( ͡° ͜ʖ ͡° )つ──☆*:・ﾟ\n",
    "    pass"
   ]
  },
  {
   "cell_type": "code",
   "execution_count": null,
   "metadata": {},
   "outputs": [],
   "source": [
    "######################################################\n",
    "assert_equal(\n",
    "    nearest_value(np.array([ 1,  2, 13]), 10),\n",
    "    13)\n",
    "######################################################\n",
    "assert_equal(\n",
    "    nearest_value(np.array([ -1,  0]), -0.5),\n",
    "    -1)\n",
    "######################################################\n",
    "assert_equal(\n",
    "    nearest_value(np.array([[[ 1], [2],[3]],[[4],[5],[6]]]), 4.5),\n",
    "    4)\n",
    "######################################################\n",
    "assert_equal(\n",
    "    nearest_value(np.array([[ 1,  2, 13],\n",
    "                            [15,  6,  8],\n",
    "                            [ 7, 18,  9]]), 7.2),\n",
    "    7)\n",
    "######################################################\n",
    "assert_equal(\n",
    "    nearest_value(np.array([[ -1,  -2],\n",
    "                            [-15,  -6]]), -100),\n",
    "    -15)\n",
    "######################################################\n",
    "assert_equal(\n",
    "    nearest_value(np.array([[ 2,  2],\n",
    "                            [12,  12]]), 7),\n",
    "    2)\n",
    "######################################################\n",
    "assert_equal(\n",
    "    nearest_value(np.array([[ -2,  -2],\n",
    "                            [-12,  -12]]), -7),\n",
    "    -12)\n",
    "######################################################\n",
    "assert_equal(\n",
    "    nearest_value(np.array(\n",
    "      [[18, 26, 21,  1, 14, 13,  6],\n",
    "       [ 2, 19,  3,  4, 20, 15, 14],\n",
    "       [25, 25,  6,  4, 14, 12, 16],\n",
    "       [23, 13,  1,  4, 12,  7,  9],\n",
    "       [15, 25, 26,  4, 18, 14,  4],\n",
    "       [11, 10,  7,  2, 12, 12, 15],\n",
    "       [17, 21, 25, 15, 22, 10, 13]]), 25.1),\n",
    "    25\n",
    ")\n",
    "######################################################\n",
    "assert_equal(\n",
    "    nearest_value(np.array(\n",
    "      [[18, 26, 21,  1, 14, 13,  6],\n",
    "       [ 2, 19,  3,  4, 20, 15, 14],\n",
    "       [25, 25,  6,  4, 14, 12, 16],\n",
    "       [23, 13,  1,  4, 12,  7,  9],\n",
    "       [15, 25, 26,  4, 18, 14,  4],\n",
    "       [11, 10,  7,  2, 12, 12, 15],\n",
    "       [17, 21, 25, 15, 22, 10, 13]]), 25.6),\n",
    "    26\n",
    ")\n",
    "######################################################"
   ]
  },
  {
   "cell_type": "markdown",
   "metadata": {},
   "source": [
    "# SLIDE (1) Сортировка чисел"
   ]
  },
  {
   "cell_type": "markdown",
   "metadata": {},
   "source": [
    "Дан одномерный массив целых чисел. Необходимо отсортировать в нем только числа, которые делятся на $2$. При этом начальный массив изменять нельзя.\n",
    "\n",
    "### Sample\n",
    "#### Input:\n",
    "```python\n",
    "A = np.array([43, 66, 34, 55, 78, 105, 2])\n",
    "```\n",
    "#### Output:\n",
    "```python\n",
    "array([ 43,   2,  34,  55,  66, 105,  78])\n",
    "```\n"
   ]
  },
  {
   "cell_type": "markdown",
   "metadata": {},
   "source": [
    "# TASK"
   ]
  },
  {
   "cell_type": "code",
   "execution_count": 16,
   "metadata": {},
   "outputs": [],
   "source": [
    "import numpy as np\n",
    "\n",
    "def sort_evens(A: np.ndarray) -> np.ndarray:\n",
    "    ### ╰( ͡° ͜ʖ ͡° )つ──☆*:・ﾟ\n",
    "    pass"
   ]
  },
  {
   "cell_type": "code",
   "execution_count": 14,
   "metadata": {},
   "outputs": [],
   "source": [
    "######################################################\n",
    "assert_array_equal(sort_evens(np.array([])), np.array([]))\n",
    "######################################################\n",
    "A1 = np.array([2, 0])\n",
    "A2 = np.array([2, 0])\n",
    "Ans = np.array([0, 2])\n",
    "assert_array_equal(sort_evens(A1), Ans)\n",
    "assert_array_equal(A1, A2)\n",
    "######################################################\n",
    "assert_array_equal(sort_evens(np.array([2, 0])), np.array([0, 2]))\n",
    "######################################################\n",
    "assert_array_equal(sort_evens(np.array([9, 3, 1, 5, 7])), np.array([9, 3, 1, 5, 7]))\n",
    "######################################################\n",
    "assert_array_equal(sort_evens(np.array([8, 12, 4, 10, 6, 2])), np.array([2, 4, 6, 8, 10, 12]))\n",
    "######################################################\n",
    "assert_array_equal(sort_evens(np.array([8, 5, -4, -1, -10, 9])), np.array([-10, 5, -4, -1, 8, 9]))\n",
    "######################################################\n",
    "assert_array_equal(sort_evens(np.array([43, 66, 34, 55, 78, 105, 2])), np.array([43, 2, 34, 55, 66, 105, 78]))\n",
    "######################################################\n",
    "assert_array_equal(sort_evens(\n",
    "    np.array([20, 38, 39, 21, 42, 33, 27, 28, 34,  0, 42, 19, 23, 13, 12, 34, 17, 33, 10,  0, 20, 37, 19, 16,  2, 15, 19, 25,  8, 31])),\n",
    "    np.array([ 0,  0, 39, 21,  2, 33, 27,  8, 10, 12, 16, 19, 23, 13, 20, 20, 17, 33, 28, 34, 34, 37, 19, 38, 42, 15, 19, 25, 42, 31])\n",
    ")\n",
    "######################################################\n",
    "assert_array_equal(sort_evens(\n",
    "    np.array([ 52,  63,  86,  72,  91, -50, -48,  56, -18,  65, -61,  61, -35, 38,  19,  88, -43,  74, -31, -49,  34, -62, -30,  26,  79, -66, -6, -18, -73, -52])),\n",
    "    np.array([-66,  63, -62, -52,  91, -50, -48, -30, -18,  65, -61,  61, -35, -18,  19,  -6, -43,  26, -31, -49,  34,  38,  52,  56,  79,  72, 74,  86, -73,  88])\n",
    ")"
   ]
  },
  {
   "cell_type": "markdown",
   "metadata": {},
   "source": [
    "# SLIDE (1) Страшные маски"
   ]
  },
  {
   "cell_type": "markdown",
   "metadata": {},
   "source": [
    "Даны трехмерный тензор размерности $X(n, k, k)$, состоящий из $0$ или $1$, или $n$ картинок $k \\times k$. Нужно применить к нему указанную маску размерности $(k, k)$: В случае, если биты в маске и картинке совпадают, то результирующий бит должен быть равен $0$, иначе $1$.\n",
    "\n",
    "### Sample\n",
    "#### Input:\n",
    "```python\n",
    "X = np.array([\n",
    "              [[ 1, 0, 1],\n",
    "               [ 1, 1, 1],\n",
    "               [ 0, 0, 1]],\n",
    "             \n",
    "              [[ 1, 1, 1],\n",
    "               [ 1, 1, 1],\n",
    "               [ 1, 1, 1]]\n",
    "            ])\n",
    "mask = np.array([[1, 1, 0],\n",
    "                 [1, 1, 0],\n",
    "                 [1, 1, 0]])\n",
    "```\n",
    "#### Output:\n",
    "```python\n",
    "array([[[0, 1, 1],\n",
    "        [0, 0, 1],\n",
    "        [1, 1, 1]],\n",
    "\n",
    "       [[0, 0, 1],\n",
    "        [0, 0, 1],\n",
    "        [0, 0, 1]]])\n",
    "```\n"
   ]
  },
  {
   "cell_type": "markdown",
   "metadata": {},
   "source": [
    "# TASK"
   ]
  },
  {
   "cell_type": "code",
   "execution_count": 13,
   "metadata": {},
   "outputs": [],
   "source": [
    "import numpy as np\n",
    "\n",
    "def tensor_mask(X: np.ndarray, mask: np.ndarray) -> np.ndarray:\n",
    "    ### ╰( ͡° ͜ʖ ͡° )つ──☆*:・ﾟ\n",
    "    pass"
   ]
  },
  {
   "cell_type": "code",
   "execution_count": 15,
   "metadata": {},
   "outputs": [],
   "source": [
    "######################################################\n",
    "X = np.zeros(9, dtype=int).reshape((1,3,3))\n",
    "mask = np.zeros(9, dtype=int).reshape((3,3))\n",
    "assert_array_equal(tensor_mask(X, mask), np.zeros(9, dtype=int).reshape((1,3,3)))\n",
    "######################################################\n",
    "X = np.ones(9, dtype=int).reshape((1,3,3))\n",
    "mask = np.ones(9, dtype=int).reshape((3,3))\n",
    "assert_array_equal(tensor_mask(X, mask), np.zeros(9, dtype=int).reshape((1,3,3)))\n",
    "######################################################\n",
    "X = np.ones(9, dtype=int).reshape((1,3,3))\n",
    "mask = np.zeros(9, dtype=int).reshape((3,3))\n",
    "assert_array_equal(tensor_mask(X, mask), np.ones(9, dtype=int).reshape((1,3,3)))\n",
    "######################################################\n",
    "X = np.zeros(9, dtype=int).reshape((1,3,3))\n",
    "mask = np.ones(9, dtype=int).reshape((3,3))\n",
    "assert_array_equal(tensor_mask(X, mask), np.ones(9, dtype=int).reshape((1,3,3)))\n",
    "######################################################\n",
    "X = np.zeros(9*3, dtype=int).reshape((3,3,3))\n",
    "mask = np.zeros(9, dtype=int).reshape((3,3))\n",
    "assert_array_equal(tensor_mask(X, mask), np.zeros(9*3, dtype=int).reshape((3,3,3)))\n",
    "######################################################\n",
    "X = np.ones(9*3, dtype=int).reshape((3,3,3))\n",
    "mask = np.ones(9, dtype=int).reshape((3,3))\n",
    "assert_array_equal(tensor_mask(X, mask), np.zeros(9*3, dtype=int).reshape((3,3,3)))\n",
    "######################################################\n",
    "X = np.ones(9*3, dtype=int).reshape((3,3,3))\n",
    "mask = np.zeros(9, dtype=int).reshape((3,3))\n",
    "assert_array_equal(tensor_mask(X, mask), np.ones(9*3, dtype=int).reshape((3,3,3)))\n",
    "######################################################\n",
    "X = np.zeros(9*3, dtype=int).reshape((3,3,3))\n",
    "mask = np.ones(9, dtype=int).reshape((3,3))\n",
    "assert_array_equal(tensor_mask(X, mask), np.ones(9*3, dtype=int).reshape((3,3,3)))\n",
    "######################################################\n",
    "X = np.array([[[ 1, 0, 1],\n",
    "               [ 1, 1, 1],\n",
    "               [ 0, 0, 1]]])\n",
    "mask = np.array([[1, 1, 0],\n",
    "                 [1, 1, 0],\n",
    "                 [1, 1, 0]])\n",
    "assert_array_equal(tensor_mask(X, mask), \n",
    "                   np.array([[[0, 1, 1],\n",
    "                             [0, 0, 1],\n",
    "                             [1, 1, 1]]]))\n",
    "######################################################\n",
    "X = np.array([[[ 1, 0, 1],\n",
    "               [ 1, 1, 1],\n",
    "               [ 0, 0, 1]],\n",
    "             \n",
    "              [[ 1, 1, 1],\n",
    "               [ 1, 1, 1],\n",
    "               [ 1, 1, 1]]])\n",
    "mask = np.array([[1, 1, 0],\n",
    "                 [1, 1, 0],\n",
    "                 [1, 1, 0]])\n",
    "assert_array_equal(tensor_mask(X, mask), \n",
    "                   np.array([[[0, 1, 1],\n",
    "                             [0, 0, 1],\n",
    "                             [1, 1, 1]],\n",
    "\n",
    "                            [[0, 0, 1],\n",
    "                             [0, 0, 1],\n",
    "                             [0, 0, 1]]]))\n",
    "######################################################"
   ]
  },
  {
   "cell_type": "markdown",
   "metadata": {},
   "source": [
    "# SLIDE (1) Сумма цифр в массиве"
   ]
  },
  {
   "cell_type": "markdown",
   "metadata": {},
   "source": [
    "На вход подается `np.ndarray` c натуральными числами. Надо получить массив сумм цифр в этих числах.\n",
    "\n",
    "### Sample\n",
    "#### Input:\n",
    "```python\n",
    "a = np.array([1241, 354, 121])\n",
    "```\n",
    "#### Output:\n",
    "```python\n",
    "array([ 8, 12, 4])\n",
    "```\n"
   ]
  },
  {
   "cell_type": "markdown",
   "metadata": {},
   "source": [
    "# TASK"
   ]
  },
  {
   "cell_type": "code",
   "execution_count": 19,
   "metadata": {},
   "outputs": [],
   "source": [
    "import numpy as np\n",
    "\n",
    "def num_sum(a: np.ndarray) -> np.ndarray:\n",
    "    ### ╰( ͡° ͜ʖ ͡° )つ──☆*:・ﾟ\n",
    "    pass"
   ]
  },
  {
   "cell_type": "code",
   "execution_count": 21,
   "metadata": {},
   "outputs": [],
   "source": [
    "######################################################\n",
    "assert_array_equal(num_sum(np.array([82])), np.array([10]))\n",
    "######################################################\n",
    "assert_array_equal(num_sum(np.array([1241, 354, 121])), np.array([ 8, 12, 4]))\n",
    "######################################################\n",
    "assert_array_equal(num_sum(np.array([1, 22, 333, 4444, 55555])), np.array([1, 4, 9, 16, 25]))\n",
    "######################################################\n",
    "assert_array_equal(num_sum(\n",
    "    np.array([245426358, 143808796, 289578807, 789087410, 601951365, 962558714,\n",
    "           911004108, 644139207, 407024443, 761496004])),\n",
    "    np.array([39, 46, 54, 44, 36, 47, 24, 36, 28, 37]))\n",
    "######################################################\n",
    "assert_array_equal(num_sum(\n",
    "    np.array([33585595, 28479537, 20427259, 81313931, 68755834, 26766828,\n",
    "           68734519,  1504004, 38005013, 35185968,  4050946, 86871441,\n",
    "           79264655, 54782423, 56298584, 22310519, 33213717, 25186256,\n",
    "           54937995, 73840702, 82641303, 69814693, 27369173, 55446500,\n",
    "           17515253, 44009538,  7230929, 20105931, 40229158, 84368588])),\n",
    "    np.array([43, 45, 31, 29, 46, 45, 43, 14, 20, 45, 28, 39, 44, 35, 47, 23, 27,\n",
    "           35, 51, 31, 27, 46, 38, 29, 29, 33, 32, 21, 31, 50]))                   "
   ]
  },
  {
   "cell_type": "markdown",
   "metadata": {},
   "source": [
    "# SLIDE (1) Чистка NaN-ов"
   ]
  },
  {
   "cell_type": "markdown",
   "metadata": {},
   "source": [
    "Одна из важных проблем данных - пустые значения. В *numpy* и *pandas* они обычно объявляются специальным типом ```np.nan```. В реальных задачах нам часто нужно что-то сделать с этими значениями. Например заменить на 0, среднее или медиану.\n",
    "\n",
    "Реализуйте функцию, которая во входной вещественной матрице ```X``` находит все значения ```nan``` и заменяет их на **медиану** остальных элементов столбца. Если все элементы столбца матрицы ```nan```, то заполняем столбец нулями.\n",
    "\n",
    "### Sample\n",
    "#### Input:\n",
    "```python\n",
    "X = np.array([[np.nan,      4,  np.nan],\n",
    "              [np.nan, np.nan,       8],\n",
    "              [np.nan,      5,  np.nan]])\n",
    "```\n",
    "#### Output:\n",
    "```python\n",
    "array([[0. , 4. , 8. ],\n",
    "       [0. , 4.5, 8. ],\n",
    "       [0. , 5. , 8. ]])\n",
    "```\n"
   ]
  },
  {
   "cell_type": "markdown",
   "metadata": {},
   "source": [
    "# TASK"
   ]
  },
  {
   "cell_type": "code",
   "execution_count": 3,
   "metadata": {},
   "outputs": [],
   "source": [
    "import numpy as np\n",
    "\n",
    "def replace_nans(X: np.ndarray) -> np.ndarray:\n",
    "    ### ╰( ͡° ͜ʖ ͡° )つ──☆*:・ﾟ\n",
    "    pass"
   ]
  },
  {
   "cell_type": "code",
   "execution_count": 7,
   "metadata": {},
   "outputs": [],
   "source": [
    "from numpy.testing import assert_array_equal, assert_array_almost_equal\n",
    "######################################################\n",
    "assert_array_equal(replace_nans(\n",
    "    np.array([[np.nan], [np.nan],  [np.nan]])),\n",
    "    np.array([[0. ],[ 0. ],[ 0. ]])\n",
    ")\n",
    "######################################################\n",
    "assert_array_equal(replace_nans(\n",
    "    np.array([[0, 42,  42]])),\n",
    "    np.array([[0, 42 , 42]])\n",
    ")\n",
    "######################################################\n",
    "assert_array_equal(replace_nans(\n",
    "    np.array([[np.nan], [1], [np.nan]])),\n",
    "    np.array([[1.] ,[ 1.] ,[ 1. ]])\n",
    ")\n",
    "######################################################\n",
    "assert_array_equal(replace_nans(\n",
    "    np.array([[4], [1],  [np.nan]])),\n",
    "    np.array([[4 ], [1] ,[ 2.5]])\n",
    ")\n",
    "######################################################\n",
    "assert_array_equal(replace_nans(\n",
    "    np.array([[-8], [1],  [np.nan]])),\n",
    "    np.array([[-8] , [1] , [-3.5]])\n",
    ")\n",
    "######################################################\n",
    "assert_array_almost_equal(replace_nans(\n",
    "    np.array([[-1.515], [2.252],  [np.nan]])),\n",
    "    np.array([[-1.515], [2.252], [0.3685]])\n",
    ")\n",
    "######################################################\n",
    "assert_array_equal(replace_nans(\n",
    "    np.array([[np.nan, np.nan,  np.nan],\n",
    "              [     4, np.nan,       5],\n",
    "              [np.nan,      8,  np.nan]]).T),\n",
    "    np.array([[0. , 0. , 0. ],\n",
    "              [4. , 4.5, 5. ],\n",
    "              [8. , 8. , 8. ]]).T\n",
    ")\n",
    "######################################################\n",
    "assert_array_equal(replace_nans(\n",
    "    np.array([[20., np.nan,  4., np.nan, 22., 14.],\n",
    "       [np.nan, np.nan, 42., 30., np.nan, 26.],\n",
    "       [np.nan, np.nan, np.nan, np.nan, 32., 36.],\n",
    "       [ 6., 26., 36.,  6., np.nan,  8.],\n",
    "       [np.nan, 30., np.nan, np.nan, np.nan, 36.],\n",
    "       [22.,  4., 10., np.nan, 18.,  6.]]).T),\n",
    "    np.array([[20., 17.,  4., 17., 22., 14.],\n",
    "       [30., 30., 42., 30., 30., 26.],\n",
    "       [34., 34., 34., 34., 32., 36.],\n",
    "       [ 6., 26., 36.,  6.,  8.,  8.],\n",
    "       [33., 30., 33., 33., 33., 36.],\n",
    "       [22.,  4., 10., 10., 18.,  6.]]).T\n",
    ")\n",
    "######################################################\n",
    "assert_array_equal(replace_nans(\n",
    "    np.array([[ 82.,  np.nan, 182., 214.,  np.nan, 312.,  np.nan, 482.,  np.nan,  np.nan,  56.,\n",
    "             np.nan,  np.nan,  np.nan, 274.,  np.nan, 388.,  np.nan, 364.,  np.nan,  np.nan, 394.,\n",
    "             np.nan, 220., 190.,  98., 440., 376.,  np.nan, 200.,  np.nan,  np.nan, 326.,\n",
    "             10.,  58., 294., 492.,  np.nan, 182., 410., 472., 126.,  np.nan, 498.,\n",
    "            236.,  np.nan,  np.nan, 228.,  np.nan,  np.nan]]).T),\n",
    "    np.array([[ 82., 255., 182., 214., 255., 312., 255., 482., 255., 255.,  56.,\n",
    "        255., 255., 255., 274., 255., 388., 255., 364., 255., 255., 394.,\n",
    "        255., 220., 190.,  98., 440., 376., 255., 200., 255., 255., 326.,\n",
    "         10.,  58., 294., 492., 255., 182., 410., 472., 126., 255., 498.,\n",
    "        236., 255., 255., 228., 255., 255.]]).T\n",
    ")\n",
    "######################################################\n",
    "assert_array_equal(replace_nans(\n",
    "    np.array([[np.nan,298.,380.,np.nan,104.]])),\n",
    "   np.array([[0, 298., 380.,0,104.]])\n",
    ")"
   ]
  },
  {
   "cell_type": "markdown",
   "metadata": {},
   "source": [
    "# SLIDE (1) Бухгалтерия зоопарка"
   ]
  },
  {
   "cell_type": "markdown",
   "metadata": {},
   "source": [
    "Вам на вход подается словарь, где ключ - это тип животного, а значение - словарь с признаками этого животного, где ключ - тип признака, а значение - значение признака (Типичный json проще говоря). Наименования признаков животного - всегда строки. Значения признаков - любой из типов pandas.\n",
    "\n",
    "Вам следует создать табличку, где по строчкам будут идти животные, а по колонкам - их признаки, которая удовлетворяет следующим условиям:\n",
    "\n",
    "* Тип животного нужно выделить в отдельную колонку `Type`\n",
    "* Строки отсортированы по типу животного в алфавитном порядке\n",
    "* Колонки отсортированы в алфавитном порядке, кроме колонки `Type` - она первая\n",
    "* Индексы строк - ряд натуральных чисел начиная с 0 без пропусков\n",
    "\n",
    "Имейте в виду, что признаки у двух животных могут не совпадать, значит незаполненные данные нужно заполнить `Nan` значением.\n",
    "\n",
    "Верните на выходе табличку(`DataFrame`), в которой отсутствуют Nan значения. При этом могут отсутствовать некоторые признаки, но животные должны присутствовать **все**. Изначальные типы значений из словаря: `int64`, `float64`, `bool` и.т.д. должны сохраниться и в конечной табличке, а не превратиться в `object`-ы. (От удаляемых признаков этого, очевидно, не требуется).\n",
    "\n",
    "### Sample 1\n",
    "#### Input:\n",
    "```python\n",
    "ZOO = {\n",
    "        'cat':{'color':'black', 'tail_len': 50, 'injured': False}, \n",
    "        'dog':{'age': 6, 'tail_len': 30.5, 'injured': True}\n",
    "      }\n",
    "```\n",
    "#### Output:\n",
    "\n",
    "|  | Type | injured |tail_len |\n",
    "|--|----|--------|-------|\n",
    "|0 | cat |  False | 50.0 |\n",
    "|1 | dog |  True  | 30.5  |\n"
   ]
  },
  {
   "cell_type": "markdown",
   "metadata": {},
   "source": [
    "# TASK"
   ]
  },
  {
   "cell_type": "code",
   "execution_count": 7,
   "metadata": {},
   "outputs": [],
   "source": [
    "import numpy as np\n",
    "import pandas as pd\n",
    "\n",
    "def ZOOtable(zoo: dict) -> pd.DataFrame:\n",
    "    ### ╰( ͡° ͜ʖ ͡° )つ──☆*:・ﾟ\n",
    "    pass"
   ]
  },
  {
   "cell_type": "code",
   "execution_count": 9,
   "metadata": {},
   "outputs": [],
   "source": [
    "######################################################\n",
    "ZOO = {\n",
    "        'cat': {'color':'black', 'tail_len': 50.0, 'injured': False}, \n",
    "        'dog': {'age': 6, 'tail_len': 30.5, 'injured': True}\n",
    "      }\n",
    "answer = pd.DataFrame(\n",
    "    {\n",
    "     'Type':['cat', 'dog'], \n",
    "     'injured':[False, True], \n",
    "     'tail_len':[50.0, 30.5]\n",
    "    }\n",
    ")\n",
    "df = ZOOtable(ZOO)\n",
    "\n",
    "assert_frame_equal(\n",
    "    df.reset_index(drop=True),\n",
    "    answer\n",
    ")\n",
    "######################################################\n",
    "ZOO = {\n",
    "        'cat': {'color':'black'}, \n",
    "        'dog': {'age': 6}\n",
    "      }\n",
    "answer = pd.DataFrame(\n",
    "    {\n",
    "     'Type':['cat', 'dog']\n",
    "    }\n",
    ")\n",
    "\n",
    "df = ZOOtable(ZOO)\n",
    "\n",
    "assert_frame_equal(\n",
    "    df.reset_index(drop=True),\n",
    "    answer\n",
    ")\n",
    "######################################################\n",
    "ZOO = {\n",
    "        'fish': {'injured': False, 'color':'gold', 'tail_len': 0.5, 'age': 0.5}, \n",
    "        'cat':  {'age': 8, 'color':'black', 'tail_len': 50.0, 'injured': False}, \n",
    "        'dog':  {'color':'grey', 'age': 6, 'tail_len': 30.5, 'injured': True}\n",
    "      }\n",
    "answer = pd.DataFrame(\n",
    "    {\n",
    "     'Type':['cat', 'dog','fish'],\n",
    "     'age':[8.0, 6.0, 0.5],\n",
    "     'color':['black', 'grey', 'gold'],   \n",
    "     'injured':[False, True, False], \n",
    "     'tail_len':[50.0, 30.5, 0.5]\n",
    "    }\n",
    ")\n",
    "df = ZOOtable(ZOO)\n",
    "\n",
    "assert_frame_equal(\n",
    "    df.reset_index(drop=True),\n",
    "    answer\n",
    ")\n",
    "######################################################\n",
    "ZOO = {\n",
    "        'cat':  {'age': 8, 'color':'black', 'tail_len': 50.0, 'injured': False}, \n",
    "      }\n",
    "answer = pd.DataFrame(\n",
    "    {\n",
    "     'Type':['cat'],\n",
    "     'age':[8],\n",
    "     'color':['black'],   \n",
    "     'injured':[False], \n",
    "     'tail_len':[50.0]\n",
    "    }\n",
    ")\n",
    "df = ZOOtable(ZOO)\n",
    "\n",
    "assert_frame_equal(\n",
    "    df.reset_index(drop=True),\n",
    "    answer\n",
    ")\n",
    "######################################################"
   ]
  },
  {
   "cell_type": "markdown",
   "metadata": {},
   "source": [
    "# SLIDE (1) Простые преобразования"
   ]
  },
  {
   "cell_type": "markdown",
   "metadata": {},
   "source": [
    "На вход подается `DataFrame` из 3-х колонок дата рождения и смерти человека на **русском** языке в формате представленом ниже:\n",
    "\n",
    "|  | Имя             | Дата рождения  | Дата смерти      \n",
    "|--|-----------------|----------------|------------------\n",
    "|0 |Никола Тесла     |10 июля 1856 г. |7 января 1943 г.  \n",
    "|1 |Альберт Эйнштейн |14 марта 1879 г.|18 апреля 1955 г.  \n",
    "\n",
    "Необходимо вернуть исходную таблицу с добавленным в конце столбцом полных лет жизни.\n",
    "\n",
    "\n",
    "|  | Имя             | Дата рождения  | Дата смерти     | Полных лет\n",
    "|--|-----------------|----------------|-----------------|-----------\n",
    "|0 |Никола Тесла     |10 июля 1856 г. |7 января 1943 г. | 86        \n",
    "|1 |Альберт Эйнштейн |14 марта 1879 г.|18 апреля 1955 г.| 76        \n",
    "\n",
    "Формат даты единый, исключений нет, пробелы мужду элементами дат присутствуют, исключений (`Nan`) нету.\n",
    "\n",
    "P.S. Для обработки высокосных годов используйте модуль `dateutil.relativedelta`."
   ]
  },
  {
   "cell_type": "markdown",
   "metadata": {},
   "source": [
    "# TASK"
   ]
  },
  {
   "cell_type": "code",
   "execution_count": 16,
   "metadata": {},
   "outputs": [],
   "source": [
    "import numpy as np\n",
    "import pandas as pd\n",
    "\n",
    "def rus_feature(df: pd.DataFrame) -> pd.DataFrame:\n",
    "    ### ╰( ͡° ͜ʖ ͡° )つ──☆*:・ﾟ\n",
    "    pass"
   ]
  },
  {
   "cell_type": "code",
   "execution_count": null,
   "metadata": {},
   "outputs": [],
   "source": [
    "######################################################\n",
    "names = pd.DataFrame({'Имя':['Никола Тесла', 'Альберт Эйнштейн'], \n",
    "                   'Дата рождения':['10 июля 1856 г.','14 марта 1879 г.'],\n",
    "                   'Дата смерти':  ['7 января 1943 г.', '18 апреля 1955 г.']})\n",
    "answer = pd.DataFrame({'Имя':['Никола Тесла', 'Альберт Эйнштейн'], \n",
    "                       'Дата рождения':['10 июля 1856 г.','14 марта 1879 г.'],\n",
    "                       'Дата смерти':  ['7 января 1943 г.', '18 апреля 1955 г.'],\n",
    "                       'Полных лет':[86, 76]})\n",
    "assert_frame_equal(\n",
    "    rus_feature(names),\n",
    "    answer\n",
    ")\n",
    "######################################################\n",
    "names = pd.DataFrame({'Имя':['Никола Тесла'], \n",
    "                   'Дата рождения':['10 июля 1856 г.'],\n",
    "                   'Дата смерти':  ['7 января 1857 г.']})\n",
    "answer = pd.DataFrame({'Имя':['Никола Тесла'], \n",
    "                       'Дата рождения':['10 июля 1856 г.'],\n",
    "                       'Дата смерти':  ['7 января 1857 г.'],\n",
    "                       'Полных лет':[0]})\n",
    "assert_frame_equal(\n",
    "    rus_feature(names),\n",
    "    answer\n",
    ")\n",
    "######################################################\n",
    "names = pd.DataFrame({'Имя':['Никола Тесла'], \n",
    "                   'Дата рождения':['1 января 2000 г.'],\n",
    "                   'Дата смерти':  ['31 декабря 2000 г.']})\n",
    "answer = pd.DataFrame({'Имя':['Никола Тесла'], \n",
    "                       'Дата рождения':['1 января 2000 г.'],\n",
    "                       'Дата смерти':  ['31 декабря 2000 г.'],\n",
    "                       'Полных лет':[0]})\n",
    "assert_frame_equal(\n",
    "    rus_feature(names),\n",
    "    answer\n",
    ")\n",
    "######################################################\n",
    "names = pd.DataFrame({'Имя':['Никола Тесла'], \n",
    "                   'Дата рождения':['1 января 2000 г.'],\n",
    "                   'Дата смерти':  ['1 января 2001 г.']})\n",
    "answer = pd.DataFrame({'Имя':['Никола Тесла'], \n",
    "                       'Дата рождения':['1 января 2000 г.'],\n",
    "                       'Дата смерти':  ['1 января 2001 г.'],\n",
    "                       'Полных лет':[1]})\n",
    "assert_frame_equal(\n",
    "    rus_feature(names),\n",
    "    answer\n",
    ")\n",
    "######################################################\n",
    "names = pd.DataFrame({'Имя':['Никола Тесла', 'Никола Тесла', 'Никола Тесла'], \n",
    "                   'Дата рождения':['1 марта 1999 г.', '1 марта 1999 г.', '1 марта 1999 г.'],\n",
    "                   'Дата смерти':  ['27 февраля 2001 г.', '28 февраля 2001 г.', '1 марта 2001 г.']})\n",
    "\n",
    "answer = pd.DataFrame({'Имя':['Никола Тесла', 'Никола Тесла', 'Никола Тесла'], \n",
    "                       'Дата рождения':['1 марта 1999 г.', '1 марта 1999 г.', '1 марта 1999 г.'],\n",
    "                       'Дата смерти':  ['27 февраля 2001 г.', '28 февраля 2001 г.', '1 марта 2001 г.'],\n",
    "                       'Полных лет':[1, 1, 2]})\n",
    "assert_frame_equal(\n",
    "    rus_feature(names),\n",
    "    answer\n",
    ")\n",
    "######################################################\n",
    "names = pd.DataFrame({'Имя':['Никола Тесла', 'Никола Тесла', 'Никола Тесла'], \n",
    "                   'Дата рождения':['1 марта 1899 г.', '1 марта 1899 г.', '1 марта 1899 г.'],\n",
    "                   'Дата смерти':  ['27 февраля 1901 г.', '28 февраля 1901 г.', '1 марта 1901 г.']})\n",
    "\n",
    "answer = pd.DataFrame({'Имя':['Никола Тесла', 'Никола Тесла', 'Никола Тесла'], \n",
    "                       'Дата рождения':['1 марта 1899 г.', '1 марта 1899 г.', '1 марта 1899 г.'],\n",
    "                       'Дата смерти':  ['27 февраля 1901 г.', '28 февраля 1901 г.', '1 марта 1901 г.'],\n",
    "                       'Полных лет':[1, 1, 2]})\n",
    "assert_frame_equal(\n",
    "    rus_feature(names),\n",
    "    answer\n",
    ")\n",
    "######################################################"
   ]
  },
  {
   "cell_type": "markdown",
   "metadata": {},
   "source": [
    "# SLIDE (1) Характеристики"
   ]
  },
  {
   "cell_type": "markdown",
   "metadata": {},
   "source": [
    "В этой задаче на вход подаются всем известные данные о погибших/выживших пассажирах на титанике. (Файл `titanik_train.csv` в [папке data](https://github.com/samstikhin/ml2021/tree/master/01-Analysis/data)). \n",
    "\n",
    "Верните среднее, медиану, максимальное и минимальное значение возраста **погибших** мужчин. Именно в данном порядке.\n",
    "\n",
    "### Sample 1\n",
    "#### Input:\n",
    "```python\n",
    "df = pd.read_csv('titanic_train.csv', index_col='PassengerId')\n",
    "```"
   ]
  },
  {
   "cell_type": "markdown",
   "metadata": {},
   "source": [
    "# TASK"
   ]
  },
  {
   "cell_type": "code",
   "execution_count": 298,
   "metadata": {},
   "outputs": [],
   "source": [
    "def men_stat(df: pd.DataFrame) -> (float, float, float, float):\n",
    "    ### ╰( ͡° ͜ʖ ͡° )つ──☆*:・ﾟ\n",
    "    pass"
   ]
  },
  {
   "cell_type": "code",
   "execution_count": 13,
   "metadata": {},
   "outputs": [],
   "source": [
    "data = pd.read_csv('data/titanic_train.csv')\n",
    "######################################################\n",
    "\n",
    "mean, med, mx, mn = men_stat(data.copy())\n",
    "assert mean - 31.618 < 1e-3\n",
    "assert med == 29\n",
    "assert mx == 74\n",
    "assert mn == 1\n",
    "\n",
    "######################################################"
   ]
  },
  {
   "cell_type": "markdown",
   "metadata": {},
   "source": [
    "# SLIDE (1) Сводная таблица"
   ]
  },
  {
   "cell_type": "markdown",
   "metadata": {},
   "source": [
    "В этой задаче на вход подаются всем известные данные о погибших/выживших пассажирах на титанике. (Файл `titanik_train.csv` в [папке data](https://github.com/samstikhin/ml2021/tree/master/01-Analysis/data)). \n",
    "\n",
    "Сделать сводную таблицу по **медианному возрасту** для пола и класса. Для примера посмотрите сводную таблицу по сумме выживших, для пола и класса. \n",
    "\n",
    "| Sex        | Pclass  | Survived |\n",
    "|------------|---------|----------|\n",
    "| **female** | **1**   |      91  |\n",
    "|            | **2**   |      70  |\n",
    "|            | **3**   |      72  |\n",
    "| **male**   | **1**   |      45  |\n",
    "|            | **2**   |      17  |\n",
    "|            | **3**   |      47  |\n",
    "\n",
    "Обратите внимание, что первые 2 столбца - это не колонки, а `MultiIndex`.\n",
    "\n",
    "### Sample 1\n",
    "#### Input:\n",
    "```python\n",
    "df = pd.read_csv('titanic_train.csv', index_col='PassengerId')\n",
    "```"
   ]
  },
  {
   "cell_type": "markdown",
   "metadata": {},
   "source": [
    "# TASK"
   ]
  },
  {
   "cell_type": "code",
   "execution_count": 34,
   "metadata": {},
   "outputs": [],
   "source": [
    "def age_stat(df: pd.DataFrame) -> pd.DataFrame:\n",
    "    ### ╰( ͡° ͜ʖ ͡° )つ──☆*:・ﾟ\n",
    "    pass"
   ]
  },
  {
   "cell_type": "code",
   "execution_count": 18,
   "metadata": {},
   "outputs": [],
   "source": [
    "data = pd.read_csv('data/titanic_train.csv')\n",
    "######################################################\n",
    "idx = pd.MultiIndex.from_product([['female', 'male'],\n",
    "                                  np.arange(1,4)],\n",
    "                                 names=['Sex', 'Pclass'])\n",
    "col = ['Age']\n",
    "\n",
    "ans = pd.DataFrame(np.array([35.0, 28.0, 21.5, 40.0, 30.0, 25.0]), idx, col)\n",
    "\n",
    "assert_frame_equal(\n",
    "    age_stat(data.copy()),\n",
    "    ans\n",
    ")\n",
    "######################################################"
   ]
  },
  {
   "cell_type": "markdown",
   "metadata": {},
   "source": [
    "# SLIDE (1) Популярные девушки"
   ]
  },
  {
   "cell_type": "markdown",
   "metadata": {},
   "source": [
    "В этой задаче на вход подаются всем известные данные о погибших/выживших пассажирах на титанике. (Файл `titanik_train.csv` в [папке data](https://github.com/samstikhin/ml2021/tree/master/01-Analysis/data)). \n",
    "\n",
    "Выведите список имен незамужних женщин(`Miss`) отсортированный по популярности. \n",
    "\n",
    "* В полном имени девушек **имя** - это **первое слово без скобок** после `Miss`.\n",
    "* Остальные строки не рассматриваем.\n",
    "* Девушки с одинаковой популярностью сортируются по имени в алфавитном порядке.\n",
    "\n",
    "**Слово/имя** - подстрока без пробелов.\n",
    "**Популярность** - количество таких имен в таблице.\n",
    "\n",
    "### Sample 1\n",
    "#### Input:\n",
    "```python\n",
    "data = pd.read_csv('titanic_train.csv', index_col='PassengerId')\n",
    "```\n",
    "#### Output:\n",
    "Вот начало данного списка. Заметьте, **названия колонок должны совпадать** \n",
    "\n",
    "|  | Name | Popularity |\n",
    "|--|----|--------|\n",
    "|0 |Anna |9|\n",
    "|1 |Mary |9\n",
    "|2 |Margaret|6\n",
    "|3 |Elizabeth|5\n",
    "|4 |Alice |4\n",
    "|5 |Bertha |4\n",
    "|6 |Ellen |4\n",
    "|7 |Helen |4\n"
   ]
  },
  {
   "cell_type": "markdown",
   "metadata": {},
   "source": [
    "# TASK"
   ]
  },
  {
   "cell_type": "code",
   "execution_count": 22,
   "metadata": {},
   "outputs": [],
   "source": [
    "def fename_stat(df: pd.DataFrame) -> pd.DataFrame:\n",
    "    ### ╰( ͡° ͜ʖ ͡° )つ──☆*:・ﾟ\n",
    "    pass"
   ]
  },
  {
   "cell_type": "code",
   "execution_count": null,
   "metadata": {},
   "outputs": [],
   "source": [
    "girls = pd.read_csv('data/popular_girls.csv')\n",
    "data = pd.read_csv('data/titanic_train.csv')\n",
    "######################################################\n",
    "assert_frame_equal(\n",
    "    fename_stat(data),\n",
    "    girls\n",
    ")\n",
    "######################################################"
   ]
  }
 ],
 "metadata": {
  "kernelspec": {
   "display_name": "Python 3",
   "language": "python",
   "name": "python3"
  },
  "language_info": {
   "codemirror_mode": {
    "name": "ipython",
    "version": 3
   },
   "file_extension": ".py",
   "mimetype": "text/x-python",
   "name": "python",
   "nbconvert_exporter": "python",
   "pygments_lexer": "ipython3",
   "version": "3.7.6"
  }
 },
 "nbformat": 4,
 "nbformat_minor": 4
}
